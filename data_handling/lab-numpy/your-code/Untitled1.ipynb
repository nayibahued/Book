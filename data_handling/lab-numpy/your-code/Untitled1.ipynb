{
 "cells": [
  {
   "cell_type": "code",
   "execution_count": 5,
   "metadata": {},
   "outputs": [
    {
     "name": "stdout",
     "output_type": "stream",
     "text": [
      "[[[0.72300147 0.03352864 0.83113338 0.20996249 0.42948818]\n",
      "  [0.44553685 0.40930492 0.85795258 0.52537988 0.75929232]\n",
      "  [0.2150231  0.91405876 0.27617818 0.86079784 0.48231296]]\n",
      "\n",
      " [[0.78999773 0.08711266 0.20395488 0.72608813 0.46268258]\n",
      "  [0.49156184 0.37491033 0.28296177 0.86787031 0.21174015]\n",
      "  [0.46476318 0.58332309 0.94468677 0.28008485 0.37703367]]]\n",
      "\n",
      "[[[73 18 28 23 63]\n",
      "  [ 4 33 65 29 91]\n",
      "  [ 5 75 87 24 99]]\n",
      "\n",
      " [[20 69 45 33 29]\n",
      "  [14 20 67  4 12]\n",
      "  [88  9 17 73 35]]]\n",
      "[[[-0.13860564  0.624894   -2.38652371  0.14340603 -0.59713999]\n",
      "  [-0.6621711  -0.93003636  1.80600419  1.51515711  2.01622282]\n",
      "  [ 0.21281673  1.1504513   0.78736537 -1.48118632  0.49748982]]\n",
      "\n",
      " [[ 0.96764947  0.47106356  0.37292354  2.20050822 -0.12528145]\n",
      "  [ 0.30426731 -0.87154035  0.0291904   0.42957709  1.67567877]\n",
      "  [ 1.81540963 -0.73191321 -0.30635624 -1.54258697  0.88036359]]]\n"
     ]
    }
   ],
   "source": [
    "import numpy as np\n",
    "\n",
    "\n",
    "a=np.random.random((2,3,5)) #floats random positivos entre 0 y 1\n",
    "a2=np.random.randint(0,100,(2,3,5)) #numeros rand enteros con el rango def de 0 a 100 y tamaño de array (2,3,5)\n",
    "a3=np.random.randn(2,3,5) #floats rand que van de negativo a positivo \n",
    "\n",
    "print(a)\n",
    "print(\"\")\n",
    "print(a2)\n",
    "print(\"\")\n",
    "print(a3)"
   ]
  },
  {
   "cell_type": "code",
   "execution_count": 11,
   "metadata": {},
   "outputs": [],
   "source": [
    "b=np.full((5,3,2),1)"
   ]
  },
  {
   "cell_type": "code",
   "execution_count": 12,
   "metadata": {},
   "outputs": [
    {
     "name": "stdout",
     "output_type": "stream",
     "text": [
      "[[[1 1]\n",
      "  [1 1]\n",
      "  [1 1]]\n",
      "\n",
      " [[1 1]\n",
      "  [1 1]\n",
      "  [1 1]]\n",
      "\n",
      " [[1 1]\n",
      "  [1 1]\n",
      "  [1 1]]\n",
      "\n",
      " [[1 1]\n",
      "  [1 1]\n",
      "  [1 1]]\n",
      "\n",
      " [[1 1]\n",
      "  [1 1]\n",
      "  [1 1]]]\n"
     ]
    }
   ],
   "source": [
    "print(b)"
   ]
  },
  {
   "cell_type": "code",
   "execution_count": 13,
   "metadata": {},
   "outputs": [
    {
     "data": {
      "text/plain": [
       "True"
      ]
     },
     "execution_count": 13,
     "metadata": {},
     "output_type": "execute_result"
    }
   ],
   "source": [
    "a.ndim==b.ndim"
   ]
  },
  {
   "cell_type": "code",
   "execution_count": 15,
   "metadata": {},
   "outputs": [],
   "source": [
    "c=b.T"
   ]
  },
  {
   "cell_type": "code",
   "execution_count": 19,
   "metadata": {},
   "outputs": [],
   "source": [
    "d=a+c"
   ]
  },
  {
   "cell_type": "code",
   "execution_count": 27,
   "metadata": {},
   "outputs": [
    {
     "name": "stdout",
     "output_type": "stream",
     "text": [
      "[[[1.72300147 1.03352864 1.83113338 1.20996249 1.42948818]\n",
      "  [1.44553685 1.40930492 1.85795258 1.52537988 1.75929232]\n",
      "  [1.2150231  1.91405876 1.27617818 1.86079784 1.48231296]]\n",
      "\n",
      " [[1.78999773 1.08711266 1.20395488 1.72608813 1.46268258]\n",
      "  [1.49156184 1.37491033 1.28296177 1.86787031 1.21174015]\n",
      "  [1.46476318 1.58332309 1.94468677 1.28008485 1.37703367]]]\n",
      "\n",
      "[[[0.72300147 0.03352864 0.83113338 0.20996249 0.42948818]\n",
      "  [0.44553685 0.40930492 0.85795258 0.52537988 0.75929232]\n",
      "  [0.2150231  0.91405876 0.27617818 0.86079784 0.48231296]]\n",
      "\n",
      " [[0.78999773 0.08711266 0.20395488 0.72608813 0.46268258]\n",
      "  [0.49156184 0.37491033 0.28296177 0.86787031 0.21174015]\n",
      "  [0.46476318 0.58332309 0.94468677 0.28008485 0.37703367]]]\n"
     ]
    }
   ],
   "source": [
    "print(d)\n",
    "print(\"\")\n",
    "print(a)"
   ]
  },
  {
   "cell_type": "code",
   "execution_count": 23,
   "metadata": {},
   "outputs": [],
   "source": [
    "e=a*c"
   ]
  },
  {
   "cell_type": "code",
   "execution_count": 24,
   "metadata": {},
   "outputs": [
    {
     "name": "stdout",
     "output_type": "stream",
     "text": [
      "[[[0.72300147 0.03352864 0.83113338 0.20996249 0.42948818]\n",
      "  [0.44553685 0.40930492 0.85795258 0.52537988 0.75929232]\n",
      "  [0.2150231  0.91405876 0.27617818 0.86079784 0.48231296]]\n",
      "\n",
      " [[0.78999773 0.08711266 0.20395488 0.72608813 0.46268258]\n",
      "  [0.49156184 0.37491033 0.28296177 0.86787031 0.21174015]\n",
      "  [0.46476318 0.58332309 0.94468677 0.28008485 0.37703367]]]\n"
     ]
    }
   ],
   "source": [
    "print(e)"
   ]
  },
  {
   "cell_type": "code",
   "execution_count": 25,
   "metadata": {},
   "outputs": [
    {
     "data": {
      "text/plain": [
       "array([[[ True,  True,  True,  True,  True],\n",
       "        [ True,  True,  True,  True,  True],\n",
       "        [ True,  True,  True,  True,  True]],\n",
       "\n",
       "       [[ True,  True,  True,  True,  True],\n",
       "        [ True,  True,  True,  True,  True],\n",
       "        [ True,  True,  True,  True,  True]]])"
      ]
     },
     "execution_count": 25,
     "metadata": {},
     "output_type": "execute_result"
    }
   ],
   "source": [
    "a==e"
   ]
  },
  {
   "cell_type": "code",
   "execution_count": 32,
   "metadata": {},
   "outputs": [
    {
     "name": "stdout",
     "output_type": "stream",
     "text": [
      "1.9446867743913985\n",
      "1.0335286415549318\n",
      "1.5040574499924653\n"
     ]
    }
   ],
   "source": [
    "d_max=np.amax(d)\n",
    "d_min=np.amin(d)\n",
    "d_mean=np.mean(d)\n",
    "\n",
    "print(d_max)\n",
    "print(d_min)\n",
    "print(d_mean)"
   ]
  },
  {
   "cell_type": "code",
   "execution_count": 35,
   "metadata": {},
   "outputs": [],
   "source": [
    "f=np.zeros_like(d)"
   ]
  },
  {
   "cell_type": "code",
   "execution_count": 36,
   "metadata": {},
   "outputs": [
    {
     "name": "stdout",
     "output_type": "stream",
     "text": [
      "[[[0. 0. 0. 0. 0.]\n",
      "  [0. 0. 0. 0. 0.]\n",
      "  [0. 0. 0. 0. 0.]]\n",
      "\n",
      " [[0. 0. 0. 0. 0.]\n",
      "  [0. 0. 0. 0. 0.]\n",
      "  [0. 0. 0. 0. 0.]]]\n"
     ]
    }
   ],
   "source": [
    "print(f)"
   ]
  },
  {
   "cell_type": "code",
   "execution_count": 43,
   "metadata": {},
   "outputs": [
    {
     "name": "stdout",
     "output_type": "stream",
     "text": [
      "[[[ 75.   0.  75.  25.  25.]\n",
      "  [ 25.  25.  75.  75.  75.]\n",
      "  [ 25.  75.  25.  75.  25.]]\n",
      "\n",
      " [[ 75.  25.  25.  75.  25.]\n",
      "  [ 25.  25.  25.  75.  25.]\n",
      "  [ 25.  75. 100.  25.  25.]]]\n"
     ]
    }
   ],
   "source": [
    "\n",
    "for a in range(0,2):\n",
    "    for b in range(0,3):\n",
    "        for c in range(0,5):\n",
    "            if d[a,b,c] > d_min and d[a,b,c] < d_mean:\n",
    "                f[a,b,c] = 25\n",
    "            elif d[a,b,c] >d_mean and d[a,b,c] <d_max:\n",
    "                f[a,b,c] = 75\n",
    "            elif d[a,b,c] == d_mean:\n",
    "                f[a,b,c] = 50\n",
    "            elif d[a,b,c] == d_min:\n",
    "                f[a,b,c] = 0\n",
    "            elif d[a,b,c] == d_max:\n",
    "                f[a,b,c] = 100\n",
    "                \n",
    "print(f)\n",
    "    "
   ]
  },
  {
   "cell_type": "code",
   "execution_count": 46,
   "metadata": {},
   "outputs": [
    {
     "name": "stdout",
     "output_type": "stream",
     "text": [
      "[[['D' 'A' 'D' 'B' 'B']\n",
      "  ['B' 'B' 'D' 'D' 'D']\n",
      "  ['B' 'D' 'B' 'D' 'B']]\n",
      "\n",
      " [['D' 'B' 'B' 'D' 'B']\n",
      "  ['B' 'B' 'B' 'D' 'B']\n",
      "  ['B' 'D' 'E' 'B' 'B']]]\n"
     ]
    }
   ],
   "source": [
    "f2=f.astype(str)\n",
    "for a in range(0,2):\n",
    "    for b in range(0,3):\n",
    "        for c in range(0,5):\n",
    "            if d[a,b,c] > d_min and d[a,b,c] < d_mean:\n",
    "                f2[a,b,c] = \"B\"\n",
    "            elif d[a,b,c] >d_mean and d[a,b,c] <d_max:\n",
    "                f2[a,b,c] = \"D\"\n",
    "            elif d[a,b,c] == d_mean:\n",
    "                f2[a,b,c] = 'C'\n",
    "            elif d[a,b,c] == d_min:\n",
    "                f2[a,b,c] = 'A'\n",
    "            elif d[a,b,c] == d_max:\n",
    "                f2[a,b,c] = 'E'\n",
    "                \n",
    "print(f2)\n"
   ]
  },
  {
   "cell_type": "code",
   "execution_count": null,
   "metadata": {},
   "outputs": [],
   "source": []
  }
 ],
 "metadata": {
  "kernelspec": {
   "display_name": "Python 3",
   "language": "python",
   "name": "python3"
  },
  "language_info": {
   "codemirror_mode": {
    "name": "ipython",
    "version": 3
   },
   "file_extension": ".py",
   "mimetype": "text/x-python",
   "name": "python",
   "nbconvert_exporter": "python",
   "pygments_lexer": "ipython3",
   "version": "3.8.3"
  }
 },
 "nbformat": 4,
 "nbformat_minor": 4
}
