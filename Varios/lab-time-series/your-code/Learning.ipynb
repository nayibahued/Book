{
 "cells": [
  {
   "cell_type": "markdown",
   "metadata": {},
   "source": [
    "# Introduction to Time Series with Python\n",
    "\n",
    "Lesson Goals\n",
    "\n",
    "In this lesson we will discover the branch of statistics that deals with time ordered data, also known as time series. We will learn about the different types of time series, about correlation and auto-correlation, and about different prediction methods for time series data.\n",
    "Introduction\n",
    "\n",
    "So far we have studied data that is static in time. This was important since many models require that we assume that observations are independent of one another. However, when dealing with time ordered data, many times this assumption is no longer valid. For example, the temperature observed today is not independent of the temperature yesterday. Another example is the stock market. Today's stock prices are related to yesterday's stock prices. In this lesson we will explore how to deal with data that contains such relationships\n",
    "Time Series Decomposition\n",
    "\n",
    "One of the ways to overcome the issues caused by having a relationship between the observations is to decompose the data into components. Typically, we split the data into two types of components - systematic and non-systematic.\n",
    "\n",
    "    Systematic components are components that can have consistency or recurrence.\n",
    "    Non-systematic components cannot be modeled.\n",
    "\n",
    "We can typically decompose a time series into 4 components - 3 systematic components and one noise component.:\n",
    "\n",
    "    The mean of the series\n",
    "    The seasonality or cyclical pattern of the series\n",
    "    The trend of the series - this component is what we would like to model\n",
    "    The noise is typically the random variation in our data\n",
    "\n",
    "Time Series Decomposition in Python\n",
    "\n",
    "We will focus on the statsmodels library for modeling and plotting time series data in Python. statsmodels contains a function called seasonal_decompose that will allow us to plot the decomposed time series data."
   ]
  },
  {
   "cell_type": "code",
   "execution_count": 1,
   "metadata": {},
   "outputs": [],
   "source": [
    "import pandas as pd"
   ]
  },
  {
   "cell_type": "code",
   "execution_count": 2,
   "metadata": {},
   "outputs": [
    {
     "data": {
      "text/html": [
       "<div>\n",
       "<style scoped>\n",
       "    .dataframe tbody tr th:only-of-type {\n",
       "        vertical-align: middle;\n",
       "    }\n",
       "\n",
       "    .dataframe tbody tr th {\n",
       "        vertical-align: top;\n",
       "    }\n",
       "\n",
       "    .dataframe thead th {\n",
       "        text-align: right;\n",
       "    }\n",
       "</style>\n",
       "<table border=\"1\" class=\"dataframe\">\n",
       "  <thead>\n",
       "    <tr style=\"text-align: right;\">\n",
       "      <th></th>\n",
       "      <th>date</th>\n",
       "      <th>Temperature</th>\n",
       "      <th>Humidity</th>\n",
       "      <th>Light</th>\n",
       "      <th>CO2</th>\n",
       "      <th>HumidityRatio</th>\n",
       "      <th>Occupancy</th>\n",
       "    </tr>\n",
       "  </thead>\n",
       "  <tbody>\n",
       "    <tr>\n",
       "      <th>0</th>\n",
       "      <td>2/2/2015 14:00</td>\n",
       "      <td>23.7000</td>\n",
       "      <td>26.272</td>\n",
       "      <td>585.200000</td>\n",
       "      <td>749.200000</td>\n",
       "      <td>0.004764</td>\n",
       "      <td>1</td>\n",
       "    </tr>\n",
       "    <tr>\n",
       "      <th>1</th>\n",
       "      <td>2/2/2015 15:00</td>\n",
       "      <td>23.7180</td>\n",
       "      <td>26.290</td>\n",
       "      <td>578.400000</td>\n",
       "      <td>760.400000</td>\n",
       "      <td>0.004773</td>\n",
       "      <td>1</td>\n",
       "    </tr>\n",
       "    <tr>\n",
       "      <th>2</th>\n",
       "      <td>2/2/2015 16:00</td>\n",
       "      <td>23.7300</td>\n",
       "      <td>26.230</td>\n",
       "      <td>572.666667</td>\n",
       "      <td>769.666667</td>\n",
       "      <td>0.004765</td>\n",
       "      <td>1</td>\n",
       "    </tr>\n",
       "    <tr>\n",
       "      <th>3</th>\n",
       "      <td>2/2/2015 17:00</td>\n",
       "      <td>23.7225</td>\n",
       "      <td>26.125</td>\n",
       "      <td>493.750000</td>\n",
       "      <td>774.750000</td>\n",
       "      <td>0.004744</td>\n",
       "      <td>1</td>\n",
       "    </tr>\n",
       "    <tr>\n",
       "      <th>4</th>\n",
       "      <td>2/2/2015 18:00</td>\n",
       "      <td>23.7540</td>\n",
       "      <td>26.200</td>\n",
       "      <td>488.600000</td>\n",
       "      <td>779.000000</td>\n",
       "      <td>0.004767</td>\n",
       "      <td>1</td>\n",
       "    </tr>\n",
       "  </tbody>\n",
       "</table>\n",
       "</div>"
      ],
      "text/plain": [
       "             date  Temperature  Humidity       Light         CO2  \\\n",
       "0  2/2/2015 14:00      23.7000    26.272  585.200000  749.200000   \n",
       "1  2/2/2015 15:00      23.7180    26.290  578.400000  760.400000   \n",
       "2  2/2/2015 16:00      23.7300    26.230  572.666667  769.666667   \n",
       "3  2/2/2015 17:00      23.7225    26.125  493.750000  774.750000   \n",
       "4  2/2/2015 18:00      23.7540    26.200  488.600000  779.000000   \n",
       "\n",
       "   HumidityRatio  Occupancy  \n",
       "0       0.004764          1  \n",
       "1       0.004773          1  \n",
       "2       0.004765          1  \n",
       "3       0.004744          1  \n",
       "4       0.004767          1  "
      ]
     },
     "execution_count": 2,
     "metadata": {},
     "output_type": "execute_result"
    }
   ],
   "source": [
    "occupancy = pd.read_csv('../occupancy.csv')\n",
    "occupancy.head()"
   ]
  },
  {
   "cell_type": "markdown",
   "metadata": {},
   "source": [
    "To plot this data, we must make sure our index is a time series with a known frequency. To analyze time series data, the data needs to be equally spaced. In the code below, we will change the type of the date column to datetime and change the index to the date column. Our frequency is 1 hour. Even though we can see that the difference between observation is 1 hour, it is not inferred, and we need to specify it ourselves. To read more about frequencies, look [here](https://pandas.pydata.org/pandas-docs/stable/user_guide/timeseries.html#timeseries-offset-aliases)."
   ]
  },
  {
   "cell_type": "code",
   "execution_count": 3,
   "metadata": {},
   "outputs": [
    {
     "data": {
      "text/plain": [
       "DatetimeIndex(['2015-02-02 14:00:00', '2015-02-02 15:00:00',\n",
       "               '2015-02-02 16:00:00', '2015-02-02 17:00:00',\n",
       "               '2015-02-02 18:00:00', '2015-02-02 19:00:00',\n",
       "               '2015-02-02 20:00:00', '2015-02-02 21:00:00',\n",
       "               '2015-02-02 22:00:00', '2015-02-02 23:00:00',\n",
       "               ...\n",
       "               '2015-05-24 04:00:00', '2015-05-24 05:00:00',\n",
       "               '2015-05-24 06:00:00', '2015-05-24 07:00:00',\n",
       "               '2015-05-24 08:00:00', '2015-05-24 09:00:00',\n",
       "               '2015-05-24 10:00:00', '2015-05-24 11:00:00',\n",
       "               '2015-05-24 12:00:00', '2015-05-24 13:00:00'],\n",
       "              dtype='datetime64[ns]', name='date', length=2664, freq='H')"
      ]
     },
     "execution_count": 3,
     "metadata": {},
     "output_type": "execute_result"
    }
   ],
   "source": [
    "occupancy.date = pd.to_datetime(occupancy.date)\n",
    "occupancy.index = pd.DatetimeIndex(occupancy.date, freq='H')\n",
    "occupancy.index"
   ]
  },
  {
   "cell_type": "markdown",
   "metadata": {},
   "source": [
    "Now we can plot the decomposed time series."
   ]
  },
  {
   "cell_type": "code",
   "execution_count": 4,
   "metadata": {},
   "outputs": [
    {
     "data": {
      "image/png": "[encoded data removed]",
      "text/plain": [
       "<Figure size 432x288 with 4 Axes>"
      ]
     },
     "metadata": {
      "needs_background": "light"
     },
     "output_type": "display_data"
    }
   ],
   "source": [
    "import statsmodels.api as sm\n",
    "\n",
    "res = sm.tsa.seasonal_decompose(occupancy.CO2)\n",
    "resplot = res.plot()"
   ]
  },
  {
   "cell_type": "markdown",
   "metadata": {},
   "source": [
    "# Autoregression\n",
    "\n",
    "An autoregressive model is a model that uses previous observations in the time series to predict the next value in the model. In previous lessons, we have looked at linear models where the response variable depends only on the predictor variables and the linear regression equation.\n",
    "However, when working with time series data, our response variable depends not only on the predictor variables but also on the response variable itself. A variable that depends on itself is called an autocorrelated variable. Our model can also depend on more than one time period in the past.\n",
    "\n",
    "\n",
    "# Checking for Autocorrelation\n",
    "\n",
    "We can check for autocorrelation in our data using a lag plot. This plot will plot y t against y t-1. Pandas has a function called lag_plot for detecting these relationships."
   ]
  },
  {
   "cell_type": "code",
   "execution_count": 5,
   "metadata": {},
   "outputs": [
    {
     "data": {
      "image/png": "[encoded data removed]",
      "text/plain": [
       "<Figure size 432x288 with 1 Axes>"
      ]
     },
     "metadata": {
      "needs_background": "light"
     },
     "output_type": "display_data"
    }
   ],
   "source": [
    "from pandas.plotting import lag_plot\n",
    "\n",
    "lag_plot(occupancy.CO2);"
   ]
  },
  {
   "cell_type": "markdown",
   "metadata": {},
   "source": [
    "A line along the diagonal shows that there is an autoregressive relationship.\n",
    "\n",
    "To create an autoregressive model we use the AR function. Typically, we note an autoregressive model with the notation AR(n) where n is the number of lag periods. In the example below, we will create an autoregressive model with lag 1 to model the rate of CO2. In the example below, we limit the lag periods to 1. However, if we do not set a limit, the model may contain more lag periods.\n",
    "\n",
    "Note that we split the data into test and train and always use the last few observations when working with time series data. We do this to ensure that the model gives good predictions even on data it has not seen. Since the data is ordered, we cannot select the test data at random."
   ]
  },
  {
   "cell_type": "code",
   "execution_count": 6,
   "metadata": {},
   "outputs": [
    {
     "name": "stderr",
     "output_type": "stream",
     "text": [
      "/opt/anaconda3/lib/python3.8/site-packages/statsmodels/tsa/ar_model.py:691: FutureWarning: \n",
      "statsmodels.tsa.AR has been deprecated in favor of statsmodels.tsa.AutoReg and\n",
      "statsmodels.tsa.SARIMAX.\n",
      "\n",
      "AutoReg adds the ability to specify exogenous variables, include time trends,\n",
      "and add seasonal dummies. The AutoReg API differs from AR since the model is\n",
      "treated as immutable, and so the entire specification including the lag\n",
      "length must be specified when creating the model. This change is too\n",
      "substantial to incorporate into the existing AR api. The function\n",
      "ar_select_order performs lag length selection for AutoReg models.\n",
      "\n",
      "AutoReg only estimates parameters using conditional MLE (OLS). Use SARIMAX to\n",
      "estimate ARX and related models using full MLE via the Kalman Filter.\n",
      "\n",
      "To silence this warning and continue using AR until it is removed, use:\n",
      "\n",
      "import warnings\n",
      "warnings.filterwarnings('ignore', 'statsmodels.tsa.ar_model.AR', FutureWarning)\n",
      "\n",
      "  warnings.warn(AR_DEPRECATION_WARN, FutureWarning)\n"
     ]
    }
   ],
   "source": [
    "from statsmodels.tsa.ar_model import AR\n",
    "\n",
    "train, test = occupancy.CO2[:-10], occupancy.CO2[-10:]\n",
    "model = AR(occupancy.CO2)\n",
    "model_fit = model.fit(maxlag=1)\n",
    "predictions = model_fit.predict(start=len(train), end=len(train)+len(test)-1, dynamic=False)"
   ]
  },
  {
   "cell_type": "markdown",
   "metadata": {},
   "source": [
    "Like linear regression, this model produces coefficients for the autoregressive model as well as predictions."
   ]
  },
  {
   "cell_type": "code",
   "execution_count": 7,
   "metadata": {},
   "outputs": [
    {
     "name": "stdout",
     "output_type": "stream",
     "text": [
      "const     0.001078\n",
      "L1.CO2    1.000195\n",
      "dtype: float64\n"
     ]
    }
   ],
   "source": [
    "print(model_fit.params)"
   ]
  },
  {
   "cell_type": "code",
   "execution_count": 8,
   "metadata": {},
   "outputs": [
    {
     "data": {
      "text/html": [
       "<div>\n",
       "<style scoped>\n",
       "    .dataframe tbody tr th:only-of-type {\n",
       "        vertical-align: middle;\n",
       "    }\n",
       "\n",
       "    .dataframe tbody tr th {\n",
       "        vertical-align: top;\n",
       "    }\n",
       "\n",
       "    .dataframe thead th {\n",
       "        text-align: right;\n",
       "    }\n",
       "</style>\n",
       "<table border=\"1\" class=\"dataframe\">\n",
       "  <thead>\n",
       "    <tr style=\"text-align: right;\">\n",
       "      <th></th>\n",
       "      <th>observed</th>\n",
       "      <th>predicted</th>\n",
       "    </tr>\n",
       "    <tr>\n",
       "      <th>date</th>\n",
       "      <th></th>\n",
       "      <th></th>\n",
       "    </tr>\n",
       "  </thead>\n",
       "  <tbody>\n",
       "    <tr>\n",
       "      <th>2015-05-24 04:00:00</th>\n",
       "      <td>1153.250000</td>\n",
       "      <td>1152.725379</td>\n",
       "    </tr>\n",
       "    <tr>\n",
       "      <th>2015-05-24 05:00:00</th>\n",
       "      <td>1152.400000</td>\n",
       "      <td>1153.475525</td>\n",
       "    </tr>\n",
       "    <tr>\n",
       "      <th>2015-05-24 06:00:00</th>\n",
       "      <td>1146.166667</td>\n",
       "      <td>1152.625359</td>\n",
       "    </tr>\n",
       "    <tr>\n",
       "      <th>2015-05-24 07:00:00</th>\n",
       "      <td>1145.400000</td>\n",
       "      <td>1146.390813</td>\n",
       "    </tr>\n",
       "    <tr>\n",
       "      <th>2015-05-24 08:00:00</th>\n",
       "      <td>1140.800000</td>\n",
       "      <td>1145.623997</td>\n",
       "    </tr>\n",
       "    <tr>\n",
       "      <th>2015-05-24 09:00:00</th>\n",
       "      <td>1150.250000</td>\n",
       "      <td>1141.023102</td>\n",
       "    </tr>\n",
       "    <tr>\n",
       "      <th>2015-05-24 10:00:00</th>\n",
       "      <td>1129.200000</td>\n",
       "      <td>1150.474941</td>\n",
       "    </tr>\n",
       "    <tr>\n",
       "      <th>2015-05-24 11:00:00</th>\n",
       "      <td>1125.800000</td>\n",
       "      <td>1129.420844</td>\n",
       "    </tr>\n",
       "    <tr>\n",
       "      <th>2015-05-24 12:00:00</th>\n",
       "      <td>1123.000000</td>\n",
       "      <td>1126.020182</td>\n",
       "    </tr>\n",
       "    <tr>\n",
       "      <th>2015-05-24 13:00:00</th>\n",
       "      <td>1124.000000</td>\n",
       "      <td>1123.219637</td>\n",
       "    </tr>\n",
       "  </tbody>\n",
       "</table>\n",
       "</div>"
      ],
      "text/plain": [
       "                        observed    predicted\n",
       "date                                         \n",
       "2015-05-24 04:00:00  1153.250000  1152.725379\n",
       "2015-05-24 05:00:00  1152.400000  1153.475525\n",
       "2015-05-24 06:00:00  1146.166667  1152.625359\n",
       "2015-05-24 07:00:00  1145.400000  1146.390813\n",
       "2015-05-24 08:00:00  1140.800000  1145.623997\n",
       "2015-05-24 09:00:00  1150.250000  1141.023102\n",
       "2015-05-24 10:00:00  1129.200000  1150.474941\n",
       "2015-05-24 11:00:00  1125.800000  1129.420844\n",
       "2015-05-24 12:00:00  1123.000000  1126.020182\n",
       "2015-05-24 13:00:00  1124.000000  1123.219637"
      ]
     },
     "execution_count": 8,
     "metadata": {},
     "output_type": "execute_result"
    }
   ],
   "source": [
    "pd.DataFrame({'observed':test, 'predicted':predictions})"
   ]
  },
  {
   "cell_type": "markdown",
   "metadata": {},
   "source": [
    "# Stationarity\n",
    "\n",
    "A time series is considered stationary if its mean and variance do not vary over time. While we cannot consider a stationary time series to be independent, stationarity is a dependence structure that can help us with a number of modeling techniques. To check whether we have a stationary time series, we can either examine the decomposition plot visually, compute the mean and standard deviation over time, or use statistical tests. One possible test is the Augmented Dickey-Fuller test. This test has the following hypothesis:\n",
    "\n",
    "H 0: The data is not stationary\n",
    "\n",
    "H 1: The data is stationary\n",
    "\n",
    "We test stationarity using the adrfuller function in statsmodels. The example below demonstrates this with our CO2 data. The adrfuller function returns multiple values. The second position in the data structure returned is the p-value of our hypothesis."
   ]
  },
  {
   "cell_type": "code",
   "execution_count": 9,
   "metadata": {},
   "outputs": [
    {
     "data": {
      "text/plain": [
       "0.0682262448324114"
      ]
     },
     "execution_count": 9,
     "metadata": {},
     "output_type": "execute_result"
    }
   ],
   "source": [
    "from statsmodels.tsa.stattools import adfuller\n",
    "\n",
    "adfuller(occupancy.CO2)[1]"
   ]
  },
  {
   "cell_type": "markdown",
   "metadata": {},
   "source": [
    "The p-value is greater than 0.05. Therefore, with a 95% confidence interval, we do not reject the null hypothesis and conclude that the data is not stationary.\n",
    "\n",
    "\n",
    "# Random Walks\n",
    "\n",
    "A random walk is a type of time series model where each observation depends on the sum of the previous observation and a random noise component. \n",
    "\n",
    "Random walks are considered non-stationary because the covariance between observations is time dependent.\n",
    "\n",
    "# Moving Average\n",
    "\n",
    "Moving average models are similar to autoregressive models. Moving average models also depend on a linear combination of past data. However, unlike autoregressive models, these models depend on past white noise terms. While the name is the same, moving average models are not the same as calculating the moving average of a time series.\n",
    "\n",
    "Moving average models are typically noted with MA(q) where q is the number of past white noise terms summed by the model.\n",
    "Note that the errors are normally distributed with mean 0 and variance σ ω.\n",
    "\n",
    "We can create a moving average model using the ARMA function in the statsmodels package. This function generates models that can have both an autoregressive component as well as a moving average component. However, here we will set the autoregressive lag to zero to create only a moving average model. Let's use our CO2 data again for this example."
   ]
  },
  {
   "cell_type": "code",
   "execution_count": 10,
   "metadata": {},
   "outputs": [],
   "source": [
    "from statsmodels.tsa.arima_model import ARMA\n",
    "\n",
    "model = ARMA(occupancy.CO2, order=(0, 1))\n",
    "model_fit = model.fit(disp=False)\n",
    "predictions = model_fit.predict(len(occupancy.CO2)-3, len(occupancy.CO2)-1)"
   ]
  },
  {
   "cell_type": "markdown",
   "metadata": {},
   "source": [
    "Let's look at the predictions:"
   ]
  },
  {
   "cell_type": "code",
   "execution_count": 11,
   "metadata": {},
   "outputs": [
    {
     "data": {
      "text/html": [
       "<div>\n",
       "<style scoped>\n",
       "    .dataframe tbody tr th:only-of-type {\n",
       "        vertical-align: middle;\n",
       "    }\n",
       "\n",
       "    .dataframe tbody tr th {\n",
       "        vertical-align: top;\n",
       "    }\n",
       "\n",
       "    .dataframe thead th {\n",
       "        text-align: right;\n",
       "    }\n",
       "</style>\n",
       "<table border=\"1\" class=\"dataframe\">\n",
       "  <thead>\n",
       "    <tr style=\"text-align: right;\">\n",
       "      <th></th>\n",
       "      <th>observed</th>\n",
       "      <th>predicted</th>\n",
       "    </tr>\n",
       "    <tr>\n",
       "      <th>date</th>\n",
       "      <th></th>\n",
       "      <th></th>\n",
       "    </tr>\n",
       "  </thead>\n",
       "  <tbody>\n",
       "    <tr>\n",
       "      <th>2015-05-24 11:00:00</th>\n",
       "      <td>1125.8</td>\n",
       "      <td>926.764248</td>\n",
       "    </tr>\n",
       "    <tr>\n",
       "      <th>2015-05-24 12:00:00</th>\n",
       "      <td>1123.0</td>\n",
       "      <td>915.380255</td>\n",
       "    </tr>\n",
       "    <tr>\n",
       "      <th>2015-05-24 13:00:00</th>\n",
       "      <td>1124.0</td>\n",
       "      <td>923.898811</td>\n",
       "    </tr>\n",
       "  </tbody>\n",
       "</table>\n",
       "</div>"
      ],
      "text/plain": [
       "                     observed   predicted\n",
       "date                                     \n",
       "2015-05-24 11:00:00    1125.8  926.764248\n",
       "2015-05-24 12:00:00    1123.0  915.380255\n",
       "2015-05-24 13:00:00    1124.0  923.898811"
      ]
     },
     "execution_count": 11,
     "metadata": {},
     "output_type": "execute_result"
    }
   ],
   "source": [
    "pd.DataFrame({'observed':occupancy.CO2[-3:], 'predicted':predictions})"
   ]
  },
  {
   "cell_type": "markdown",
   "metadata": {},
   "source": [
    "We can see that this model alone is not a great fit for this data since there is a big difference between observed and predicted.\n",
    "\n",
    "\n",
    "# Combining Autoregression with Moving Average\n",
    "\n",
    "As we have seen in the previous paragraph, we can create a model with both an autoregressive component and a moving average component. This model is called an ARMA model and is denoted by ARMA(n, q) where n is the number of lag periods and q is the number of past white noise terms. Below is an example of an ARMA model with two lag terms and one white noise term.\n",
    "\n"
   ]
  },
  {
   "cell_type": "code",
   "execution_count": 12,
   "metadata": {},
   "outputs": [],
   "source": [
    "from statsmodels.tsa.arima_model import ARMA\n",
    "\n",
    "# fit model\n",
    "model = ARMA(occupancy.CO2, order=(2, 1))\n",
    "model_fit = model.fit(disp=False)\n",
    "# make prediction\n",
    "predictions = model_fit.predict(len(occupancy.CO2)-3, len(occupancy.CO2)-1)"
   ]
  },
  {
   "cell_type": "markdown",
   "metadata": {},
   "source": [
    "We expect our predictions to improve:"
   ]
  },
  {
   "cell_type": "code",
   "execution_count": 13,
   "metadata": {},
   "outputs": [
    {
     "data": {
      "text/html": [
       "<div>\n",
       "<style scoped>\n",
       "    .dataframe tbody tr th:only-of-type {\n",
       "        vertical-align: middle;\n",
       "    }\n",
       "\n",
       "    .dataframe tbody tr th {\n",
       "        vertical-align: top;\n",
       "    }\n",
       "\n",
       "    .dataframe thead th {\n",
       "        text-align: right;\n",
       "    }\n",
       "</style>\n",
       "<table border=\"1\" class=\"dataframe\">\n",
       "  <thead>\n",
       "    <tr style=\"text-align: right;\">\n",
       "      <th></th>\n",
       "      <th>observed</th>\n",
       "      <th>predicted</th>\n",
       "    </tr>\n",
       "    <tr>\n",
       "      <th>date</th>\n",
       "      <th></th>\n",
       "      <th></th>\n",
       "    </tr>\n",
       "  </thead>\n",
       "  <tbody>\n",
       "    <tr>\n",
       "      <th>2015-05-24 11:00:00</th>\n",
       "      <td>1125.8</td>\n",
       "      <td>1128.299024</td>\n",
       "    </tr>\n",
       "    <tr>\n",
       "      <th>2015-05-24 12:00:00</th>\n",
       "      <td>1123.0</td>\n",
       "      <td>1124.735504</td>\n",
       "    </tr>\n",
       "    <tr>\n",
       "      <th>2015-05-24 13:00:00</th>\n",
       "      <td>1124.0</td>\n",
       "      <td>1121.816981</td>\n",
       "    </tr>\n",
       "  </tbody>\n",
       "</table>\n",
       "</div>"
      ],
      "text/plain": [
       "                     observed    predicted\n",
       "date                                      \n",
       "2015-05-24 11:00:00    1125.8  1128.299024\n",
       "2015-05-24 12:00:00    1123.0  1124.735504\n",
       "2015-05-24 13:00:00    1124.0  1121.816981"
      ]
     },
     "execution_count": 13,
     "metadata": {},
     "output_type": "execute_result"
    }
   ],
   "source": [
    "pd.DataFrame({'observed':occupancy.CO2[-3:], 'predicted':predictions})"
   ]
  },
  {
   "cell_type": "code",
   "execution_count": null,
   "metadata": {},
   "outputs": [],
   "source": []
  }
 ],
 "metadata": {
  "kernelspec": {
   "display_name": "Python 3",
   "language": "python",
   "name": "python3"
  },
  "language_info": {
   "codemirror_mode": {
    "name": "ipython",
    "version": 3
   },
   "file_extension": ".py",
   "mimetype": "text/x-python",
   "name": "python",
   "nbconvert_exporter": "python",
   "pygments_lexer": "ipython3",
   "version": "3.8.3"
  }
 },
 "nbformat": 4,
 "nbformat_minor": 2
}
